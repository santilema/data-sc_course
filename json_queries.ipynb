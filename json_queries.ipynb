{
  "cells": [
    {
      "cell_type": "markdown",
      "metadata": {
        "id": "view-in-github",
        "colab_type": "text"
      },
      "source": [
        "<a href=\"https://colab.research.google.com/github/santilema/data-sc_course/blob/main/json_queries.ipynb\" target=\"_parent\"><img src=\"https://colab.research.google.com/assets/colab-badge.svg\" alt=\"Open In Colab\"/></a>"
      ]
    },
    {
      "cell_type": "code",
      "execution_count": 1,
      "id": "1b36666d",
      "metadata": {
        "id": "1b36666d"
      },
      "outputs": [],
      "source": [
        "import numpy as np\n",
        "import pandas as pd"
      ]
    },
    {
      "cell_type": "code",
      "execution_count": 2,
      "id": "e443b0bb",
      "metadata": {
        "id": "e443b0bb"
      },
      "outputs": [],
      "source": [
        "import json\n",
        "import requests"
      ]
    },
    {
      "cell_type": "markdown",
      "id": "6a0c97de",
      "metadata": {
        "id": "6a0c97de"
      },
      "source": [
        "I store the link of my data base in variable url"
      ]
    },
    {
      "cell_type": "code",
      "execution_count": 3,
      "id": "29716d25",
      "metadata": {
        "id": "29716d25"
      },
      "outputs": [],
      "source": [
        "url = 'https://jsonplaceholder.typicode.com/users' "
      ]
    },
    {
      "cell_type": "code",
      "execution_count": 5,
      "id": "fc51c660",
      "metadata": {
        "id": "fc51c660",
        "outputId": "61fe0e17-b345-44cf-f1ce-050be4caf556",
        "colab": {
          "base_uri": "https://localhost:8080/"
        }
      },
      "outputs": [
        {
          "output_type": "stream",
          "name": "stdout",
          "text": [
            "<Response [200]>\n"
          ]
        }
      ],
      "source": [
        "resp = requests.get(url)\n",
        "print(resp)"
      ]
    },
    {
      "cell_type": "markdown",
      "id": "07d0015c",
      "metadata": {
        "id": "07d0015c"
      },
      "source": [
        "If it returns response [200] then connection was successful :)"
      ]
    },
    {
      "cell_type": "markdown",
      "id": "e40a4b0b",
      "metadata": {
        "id": "e40a4b0b"
      },
      "source": [
        "The response is converted into a string to be transformed into list a dict with loads() method"
      ]
    },
    {
      "cell_type": "code",
      "execution_count": 9,
      "id": "4259e570",
      "metadata": {
        "id": "4259e570",
        "colab": {
          "base_uri": "https://localhost:8080/"
        },
        "outputId": "baeeba2a-b27c-45b6-b9c3-e264977a22b8"
      },
      "outputs": [
        {
          "output_type": "stream",
          "name": "stdout",
          "text": [
            "[{'id': 1, 'name': 'Leanne Graham', 'username': 'Bret', 'email': 'Sincere@april.biz', 'address': {'street': 'Kulas Light', 'suite': 'Apt. 556', 'city': 'Gwenborough', 'zipcode': '92998-3874', 'geo': {'lat': '-37.3159', 'lng': '81.1496'}}, 'phone': '1-770-736-8031 x56442', 'website': 'hildegard.org', 'company': {'name': 'Romaguera-Crona', 'catchPhrase': 'Multi-layered client-server neural-net', 'bs': 'harness real-time e-markets'}}, {'id': 2, 'name': 'Ervin Howell', 'username': 'Antonette', 'email': 'Shanna@melissa.tv', 'address': {'street': 'Victor Plains', 'suite': 'Suite 879', 'city': 'Wisokyburgh', 'zipcode': '90566-7771', 'geo': {'lat': '-43.9509', 'lng': '-34.4618'}}, 'phone': '010-692-6593 x09125', 'website': 'anastasia.net', 'company': {'name': 'Deckow-Crist', 'catchPhrase': 'Proactive didactic contingency', 'bs': 'synergize scalable supply-chains'}}, {'id': 3, 'name': 'Clementine Bauch', 'username': 'Samantha', 'email': 'Nathan@yesenia.net', 'address': {'street': 'Douglas Extension', 'suite': 'Suite 847', 'city': 'McKenziehaven', 'zipcode': '59590-4157', 'geo': {'lat': '-68.6102', 'lng': '-47.0653'}}, 'phone': '1-463-123-4447', 'website': 'ramiro.info', 'company': {'name': 'Romaguera-Jacobson', 'catchPhrase': 'Face to face bifurcated interface', 'bs': 'e-enable strategic applications'}}, {'id': 4, 'name': 'Patricia Lebsack', 'username': 'Karianne', 'email': 'Julianne.OConner@kory.org', 'address': {'street': 'Hoeger Mall', 'suite': 'Apt. 692', 'city': 'South Elvis', 'zipcode': '53919-4257', 'geo': {'lat': '29.4572', 'lng': '-164.2990'}}, 'phone': '493-170-9623 x156', 'website': 'kale.biz', 'company': {'name': 'Robel-Corkery', 'catchPhrase': 'Multi-tiered zero tolerance productivity', 'bs': 'transition cutting-edge web services'}}, {'id': 5, 'name': 'Chelsey Dietrich', 'username': 'Kamren', 'email': 'Lucio_Hettinger@annie.ca', 'address': {'street': 'Skiles Walks', 'suite': 'Suite 351', 'city': 'Roscoeview', 'zipcode': '33263', 'geo': {'lat': '-31.8129', 'lng': '62.5342'}}, 'phone': '(254)954-1289', 'website': 'demarco.info', 'company': {'name': 'Keebler LLC', 'catchPhrase': 'User-centric fault-tolerant solution', 'bs': 'revolutionize end-to-end systems'}}, {'id': 6, 'name': 'Mrs. Dennis Schulist', 'username': 'Leopoldo_Corkery', 'email': 'Karley_Dach@jasper.info', 'address': {'street': 'Norberto Crossing', 'suite': 'Apt. 950', 'city': 'South Christy', 'zipcode': '23505-1337', 'geo': {'lat': '-71.4197', 'lng': '71.7478'}}, 'phone': '1-477-935-8478 x6430', 'website': 'ola.org', 'company': {'name': 'Considine-Lockman', 'catchPhrase': 'Synchronised bottom-line interface', 'bs': 'e-enable innovative applications'}}, {'id': 7, 'name': 'Kurtis Weissnat', 'username': 'Elwyn.Skiles', 'email': 'Telly.Hoeger@billy.biz', 'address': {'street': 'Rex Trail', 'suite': 'Suite 280', 'city': 'Howemouth', 'zipcode': '58804-1099', 'geo': {'lat': '24.8918', 'lng': '21.8984'}}, 'phone': '210.067.6132', 'website': 'elvis.io', 'company': {'name': 'Johns Group', 'catchPhrase': 'Configurable multimedia task-force', 'bs': 'generate enterprise e-tailers'}}, {'id': 8, 'name': 'Nicholas Runolfsdottir V', 'username': 'Maxime_Nienow', 'email': 'Sherwood@rosamond.me', 'address': {'street': 'Ellsworth Summit', 'suite': 'Suite 729', 'city': 'Aliyaview', 'zipcode': '45169', 'geo': {'lat': '-14.3990', 'lng': '-120.7677'}}, 'phone': '586.493.6943 x140', 'website': 'jacynthe.com', 'company': {'name': 'Abernathy Group', 'catchPhrase': 'Implemented secondary concept', 'bs': 'e-enable extensible e-tailers'}}, {'id': 9, 'name': 'Glenna Reichert', 'username': 'Delphine', 'email': 'Chaim_McDermott@dana.io', 'address': {'street': 'Dayna Park', 'suite': 'Suite 449', 'city': 'Bartholomebury', 'zipcode': '76495-3109', 'geo': {'lat': '24.6463', 'lng': '-168.8889'}}, 'phone': '(775)976-6794 x41206', 'website': 'conrad.com', 'company': {'name': 'Yost and Sons', 'catchPhrase': 'Switchable contextually-based project', 'bs': 'aggregate real-time technologies'}}, {'id': 10, 'name': 'Clementina DuBuque', 'username': 'Moriah.Stanton', 'email': 'Rey.Padberg@karina.biz', 'address': {'street': 'Kattie Turnpike', 'suite': 'Suite 198', 'city': 'Lebsackbury', 'zipcode': '31428-2261', 'geo': {'lat': '-38.2386', 'lng': '57.2232'}}, 'phone': '024-648-3804', 'website': 'ambrose.net', 'company': {'name': 'Hoeger LLC', 'catchPhrase': 'Centralized empowering task-force', 'bs': 'target end-to-end models'}}]\n"
          ]
        }
      ],
      "source": [
        "text = resp.text\n",
        "json_data = json.loads(text)\n",
        "print(json_data)"
      ]
    },
    {
      "cell_type": "markdown",
      "id": "6dd17433",
      "metadata": {
        "id": "6dd17433"
      },
      "source": [
        "Now I can use this list as a source to create a dataframe"
      ]
    },
    {
      "cell_type": "code",
      "execution_count": 10,
      "id": "c2e05c09",
      "metadata": {
        "id": "c2e05c09"
      },
      "outputs": [],
      "source": [
        "df = pd.DataFrame.from_dict(json_data)"
      ]
    },
    {
      "cell_type": "code",
      "execution_count": 11,
      "id": "60db6154",
      "metadata": {
        "id": "60db6154",
        "outputId": "2c0c17cb-c315-49f6-a8ba-758bd4e3a88e",
        "colab": {
          "base_uri": "https://localhost:8080/",
          "height": 394
        }
      },
      "outputs": [
        {
          "output_type": "execute_result",
          "data": {
            "text/plain": [
              "                        name          username                      email  \\\n",
              "id                                                                          \n",
              "1              Leanne Graham              Bret          Sincere@april.biz   \n",
              "2               Ervin Howell         Antonette          Shanna@melissa.tv   \n",
              "3           Clementine Bauch          Samantha         Nathan@yesenia.net   \n",
              "4           Patricia Lebsack          Karianne  Julianne.OConner@kory.org   \n",
              "5           Chelsey Dietrich            Kamren   Lucio_Hettinger@annie.ca   \n",
              "6       Mrs. Dennis Schulist  Leopoldo_Corkery    Karley_Dach@jasper.info   \n",
              "7            Kurtis Weissnat      Elwyn.Skiles     Telly.Hoeger@billy.biz   \n",
              "8   Nicholas Runolfsdottir V     Maxime_Nienow       Sherwood@rosamond.me   \n",
              "9            Glenna Reichert          Delphine    Chaim_McDermott@dana.io   \n",
              "10        Clementina DuBuque    Moriah.Stanton     Rey.Padberg@karina.biz   \n",
              "\n",
              "                                              address                  phone  \\\n",
              "id                                                                             \n",
              "1   {'street': 'Kulas Light', 'suite': 'Apt. 556',...  1-770-736-8031 x56442   \n",
              "2   {'street': 'Victor Plains', 'suite': 'Suite 87...    010-692-6593 x09125   \n",
              "3   {'street': 'Douglas Extension', 'suite': 'Suit...         1-463-123-4447   \n",
              "4   {'street': 'Hoeger Mall', 'suite': 'Apt. 692',...      493-170-9623 x156   \n",
              "5   {'street': 'Skiles Walks', 'suite': 'Suite 351...          (254)954-1289   \n",
              "6   {'street': 'Norberto Crossing', 'suite': 'Apt....   1-477-935-8478 x6430   \n",
              "7   {'street': 'Rex Trail', 'suite': 'Suite 280', ...           210.067.6132   \n",
              "8   {'street': 'Ellsworth Summit', 'suite': 'Suite...      586.493.6943 x140   \n",
              "9   {'street': 'Dayna Park', 'suite': 'Suite 449',...   (775)976-6794 x41206   \n",
              "10  {'street': 'Kattie Turnpike', 'suite': 'Suite ...           024-648-3804   \n",
              "\n",
              "          website                                            company  \n",
              "id                                                                    \n",
              "1   hildegard.org  {'name': 'Romaguera-Crona', 'catchPhrase': 'Mu...  \n",
              "2   anastasia.net  {'name': 'Deckow-Crist', 'catchPhrase': 'Proac...  \n",
              "3     ramiro.info  {'name': 'Romaguera-Jacobson', 'catchPhrase': ...  \n",
              "4        kale.biz  {'name': 'Robel-Corkery', 'catchPhrase': 'Mult...  \n",
              "5    demarco.info  {'name': 'Keebler LLC', 'catchPhrase': 'User-c...  \n",
              "6         ola.org  {'name': 'Considine-Lockman', 'catchPhrase': '...  \n",
              "7        elvis.io  {'name': 'Johns Group', 'catchPhrase': 'Config...  \n",
              "8    jacynthe.com  {'name': 'Abernathy Group', 'catchPhrase': 'Im...  \n",
              "9      conrad.com  {'name': 'Yost and Sons', 'catchPhrase': 'Swit...  \n",
              "10    ambrose.net  {'name': 'Hoeger LLC', 'catchPhrase': 'Central...  "
            ],
            "text/html": [
              "\n",
              "  <div id=\"df-0753ee8a-8ef6-4933-83df-1b580dcc56dd\">\n",
              "    <div class=\"colab-df-container\">\n",
              "      <div>\n",
              "<style scoped>\n",
              "    .dataframe tbody tr th:only-of-type {\n",
              "        vertical-align: middle;\n",
              "    }\n",
              "\n",
              "    .dataframe tbody tr th {\n",
              "        vertical-align: top;\n",
              "    }\n",
              "\n",
              "    .dataframe thead th {\n",
              "        text-align: right;\n",
              "    }\n",
              "</style>\n",
              "<table border=\"1\" class=\"dataframe\">\n",
              "  <thead>\n",
              "    <tr style=\"text-align: right;\">\n",
              "      <th></th>\n",
              "      <th>name</th>\n",
              "      <th>username</th>\n",
              "      <th>email</th>\n",
              "      <th>address</th>\n",
              "      <th>phone</th>\n",
              "      <th>website</th>\n",
              "      <th>company</th>\n",
              "    </tr>\n",
              "    <tr>\n",
              "      <th>id</th>\n",
              "      <th></th>\n",
              "      <th></th>\n",
              "      <th></th>\n",
              "      <th></th>\n",
              "      <th></th>\n",
              "      <th></th>\n",
              "      <th></th>\n",
              "    </tr>\n",
              "  </thead>\n",
              "  <tbody>\n",
              "    <tr>\n",
              "      <th>1</th>\n",
              "      <td>Leanne Graham</td>\n",
              "      <td>Bret</td>\n",
              "      <td>Sincere@april.biz</td>\n",
              "      <td>{'street': 'Kulas Light', 'suite': 'Apt. 556',...</td>\n",
              "      <td>1-770-736-8031 x56442</td>\n",
              "      <td>hildegard.org</td>\n",
              "      <td>{'name': 'Romaguera-Crona', 'catchPhrase': 'Mu...</td>\n",
              "    </tr>\n",
              "    <tr>\n",
              "      <th>2</th>\n",
              "      <td>Ervin Howell</td>\n",
              "      <td>Antonette</td>\n",
              "      <td>Shanna@melissa.tv</td>\n",
              "      <td>{'street': 'Victor Plains', 'suite': 'Suite 87...</td>\n",
              "      <td>010-692-6593 x09125</td>\n",
              "      <td>anastasia.net</td>\n",
              "      <td>{'name': 'Deckow-Crist', 'catchPhrase': 'Proac...</td>\n",
              "    </tr>\n",
              "    <tr>\n",
              "      <th>3</th>\n",
              "      <td>Clementine Bauch</td>\n",
              "      <td>Samantha</td>\n",
              "      <td>Nathan@yesenia.net</td>\n",
              "      <td>{'street': 'Douglas Extension', 'suite': 'Suit...</td>\n",
              "      <td>1-463-123-4447</td>\n",
              "      <td>ramiro.info</td>\n",
              "      <td>{'name': 'Romaguera-Jacobson', 'catchPhrase': ...</td>\n",
              "    </tr>\n",
              "    <tr>\n",
              "      <th>4</th>\n",
              "      <td>Patricia Lebsack</td>\n",
              "      <td>Karianne</td>\n",
              "      <td>Julianne.OConner@kory.org</td>\n",
              "      <td>{'street': 'Hoeger Mall', 'suite': 'Apt. 692',...</td>\n",
              "      <td>493-170-9623 x156</td>\n",
              "      <td>kale.biz</td>\n",
              "      <td>{'name': 'Robel-Corkery', 'catchPhrase': 'Mult...</td>\n",
              "    </tr>\n",
              "    <tr>\n",
              "      <th>5</th>\n",
              "      <td>Chelsey Dietrich</td>\n",
              "      <td>Kamren</td>\n",
              "      <td>Lucio_Hettinger@annie.ca</td>\n",
              "      <td>{'street': 'Skiles Walks', 'suite': 'Suite 351...</td>\n",
              "      <td>(254)954-1289</td>\n",
              "      <td>demarco.info</td>\n",
              "      <td>{'name': 'Keebler LLC', 'catchPhrase': 'User-c...</td>\n",
              "    </tr>\n",
              "    <tr>\n",
              "      <th>6</th>\n",
              "      <td>Mrs. Dennis Schulist</td>\n",
              "      <td>Leopoldo_Corkery</td>\n",
              "      <td>Karley_Dach@jasper.info</td>\n",
              "      <td>{'street': 'Norberto Crossing', 'suite': 'Apt....</td>\n",
              "      <td>1-477-935-8478 x6430</td>\n",
              "      <td>ola.org</td>\n",
              "      <td>{'name': 'Considine-Lockman', 'catchPhrase': '...</td>\n",
              "    </tr>\n",
              "    <tr>\n",
              "      <th>7</th>\n",
              "      <td>Kurtis Weissnat</td>\n",
              "      <td>Elwyn.Skiles</td>\n",
              "      <td>Telly.Hoeger@billy.biz</td>\n",
              "      <td>{'street': 'Rex Trail', 'suite': 'Suite 280', ...</td>\n",
              "      <td>210.067.6132</td>\n",
              "      <td>elvis.io</td>\n",
              "      <td>{'name': 'Johns Group', 'catchPhrase': 'Config...</td>\n",
              "    </tr>\n",
              "    <tr>\n",
              "      <th>8</th>\n",
              "      <td>Nicholas Runolfsdottir V</td>\n",
              "      <td>Maxime_Nienow</td>\n",
              "      <td>Sherwood@rosamond.me</td>\n",
              "      <td>{'street': 'Ellsworth Summit', 'suite': 'Suite...</td>\n",
              "      <td>586.493.6943 x140</td>\n",
              "      <td>jacynthe.com</td>\n",
              "      <td>{'name': 'Abernathy Group', 'catchPhrase': 'Im...</td>\n",
              "    </tr>\n",
              "    <tr>\n",
              "      <th>9</th>\n",
              "      <td>Glenna Reichert</td>\n",
              "      <td>Delphine</td>\n",
              "      <td>Chaim_McDermott@dana.io</td>\n",
              "      <td>{'street': 'Dayna Park', 'suite': 'Suite 449',...</td>\n",
              "      <td>(775)976-6794 x41206</td>\n",
              "      <td>conrad.com</td>\n",
              "      <td>{'name': 'Yost and Sons', 'catchPhrase': 'Swit...</td>\n",
              "    </tr>\n",
              "    <tr>\n",
              "      <th>10</th>\n",
              "      <td>Clementina DuBuque</td>\n",
              "      <td>Moriah.Stanton</td>\n",
              "      <td>Rey.Padberg@karina.biz</td>\n",
              "      <td>{'street': 'Kattie Turnpike', 'suite': 'Suite ...</td>\n",
              "      <td>024-648-3804</td>\n",
              "      <td>ambrose.net</td>\n",
              "      <td>{'name': 'Hoeger LLC', 'catchPhrase': 'Central...</td>\n",
              "    </tr>\n",
              "  </tbody>\n",
              "</table>\n",
              "</div>\n",
              "      <button class=\"colab-df-convert\" onclick=\"convertToInteractive('df-0753ee8a-8ef6-4933-83df-1b580dcc56dd')\"\n",
              "              title=\"Convert this dataframe to an interactive table.\"\n",
              "              style=\"display:none;\">\n",
              "        \n",
              "  <svg xmlns=\"http://www.w3.org/2000/svg\" height=\"24px\"viewBox=\"0 0 24 24\"\n",
              "       width=\"24px\">\n",
              "    <path d=\"M0 0h24v24H0V0z\" fill=\"none\"/>\n",
              "    <path d=\"M18.56 5.44l.94 2.06.94-2.06 2.06-.94-2.06-.94-.94-2.06-.94 2.06-2.06.94zm-11 1L8.5 8.5l.94-2.06 2.06-.94-2.06-.94L8.5 2.5l-.94 2.06-2.06.94zm10 10l.94 2.06.94-2.06 2.06-.94-2.06-.94-.94-2.06-.94 2.06-2.06.94z\"/><path d=\"M17.41 7.96l-1.37-1.37c-.4-.4-.92-.59-1.43-.59-.52 0-1.04.2-1.43.59L10.3 9.45l-7.72 7.72c-.78.78-.78 2.05 0 2.83L4 21.41c.39.39.9.59 1.41.59.51 0 1.02-.2 1.41-.59l7.78-7.78 2.81-2.81c.8-.78.8-2.07 0-2.86zM5.41 20L4 18.59l7.72-7.72 1.47 1.35L5.41 20z\"/>\n",
              "  </svg>\n",
              "      </button>\n",
              "      \n",
              "  <style>\n",
              "    .colab-df-container {\n",
              "      display:flex;\n",
              "      flex-wrap:wrap;\n",
              "      gap: 12px;\n",
              "    }\n",
              "\n",
              "    .colab-df-convert {\n",
              "      background-color: #E8F0FE;\n",
              "      border: none;\n",
              "      border-radius: 50%;\n",
              "      cursor: pointer;\n",
              "      display: none;\n",
              "      fill: #1967D2;\n",
              "      height: 32px;\n",
              "      padding: 0 0 0 0;\n",
              "      width: 32px;\n",
              "    }\n",
              "\n",
              "    .colab-df-convert:hover {\n",
              "      background-color: #E2EBFA;\n",
              "      box-shadow: 0px 1px 2px rgba(60, 64, 67, 0.3), 0px 1px 3px 1px rgba(60, 64, 67, 0.15);\n",
              "      fill: #174EA6;\n",
              "    }\n",
              "\n",
              "    [theme=dark] .colab-df-convert {\n",
              "      background-color: #3B4455;\n",
              "      fill: #D2E3FC;\n",
              "    }\n",
              "\n",
              "    [theme=dark] .colab-df-convert:hover {\n",
              "      background-color: #434B5C;\n",
              "      box-shadow: 0px 1px 3px 1px rgba(0, 0, 0, 0.15);\n",
              "      filter: drop-shadow(0px 1px 2px rgba(0, 0, 0, 0.3));\n",
              "      fill: #FFFFFF;\n",
              "    }\n",
              "  </style>\n",
              "\n",
              "      <script>\n",
              "        const buttonEl =\n",
              "          document.querySelector('#df-0753ee8a-8ef6-4933-83df-1b580dcc56dd button.colab-df-convert');\n",
              "        buttonEl.style.display =\n",
              "          google.colab.kernel.accessAllowed ? 'block' : 'none';\n",
              "\n",
              "        async function convertToInteractive(key) {\n",
              "          const element = document.querySelector('#df-0753ee8a-8ef6-4933-83df-1b580dcc56dd');\n",
              "          const dataTable =\n",
              "            await google.colab.kernel.invokeFunction('convertToInteractive',\n",
              "                                                     [key], {});\n",
              "          if (!dataTable) return;\n",
              "\n",
              "          const docLinkHtml = 'Like what you see? Visit the ' +\n",
              "            '<a target=\"_blank\" href=https://colab.research.google.com/notebooks/data_table.ipynb>data table notebook</a>'\n",
              "            + ' to learn more about interactive tables.';\n",
              "          element.innerHTML = '';\n",
              "          dataTable['output_type'] = 'display_data';\n",
              "          await google.colab.output.renderOutput(dataTable, element);\n",
              "          const docLink = document.createElement('div');\n",
              "          docLink.innerHTML = docLinkHtml;\n",
              "          element.appendChild(docLink);\n",
              "        }\n",
              "      </script>\n",
              "    </div>\n",
              "  </div>\n",
              "  "
            ]
          },
          "metadata": {},
          "execution_count": 11
        }
      ],
      "source": [
        "df = df.set_index('id')\n",
        "df"
      ]
    }
  ],
  "metadata": {
    "kernelspec": {
      "display_name": "Python 3 (ipykernel)",
      "language": "python",
      "name": "python3"
    },
    "language_info": {
      "codemirror_mode": {
        "name": "ipython",
        "version": 3
      },
      "file_extension": ".py",
      "mimetype": "text/x-python",
      "name": "python",
      "nbconvert_exporter": "python",
      "pygments_lexer": "ipython3",
      "version": "3.8.10"
    },
    "colab": {
      "name": "json_queries.ipynb",
      "provenance": [],
      "include_colab_link": true
    }
  },
  "nbformat": 4,
  "nbformat_minor": 5
}